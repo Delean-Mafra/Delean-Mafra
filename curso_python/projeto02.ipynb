{
 "cells": [
  {
   "cell_type": "markdown",
   "metadata": {},
   "source": [
    "# Projeto 02\n",
    "Passo a passo do problema\n",
    "\n"
   ]
  },
  {
   "cell_type": "code",
   "execution_count": 1,
   "metadata": {},
   "outputs": [
    {
     "name": "stdout",
     "output_type": "stream",
     "text": [
      "10.15\n",
      "10.15\n"
     ]
    }
   ],
   "source": [
    "# arredonda casas decimais:  round\n",
    "\n",
    "teste_round = round(10.15454575215668,2)\n",
    "print(round(10.15454575215668,2))\n",
    "print(teste_round)\n"
   ]
  },
  {
   "cell_type": "code",
   "execution_count": null,
   "metadata": {},
   "outputs": [],
   "source": [
    "import time\n",
    "time.sleep(5)\n"
   ]
  },
  {
   "cell_type": "code",
   "execution_count": 5,
   "metadata": {},
   "outputs": [
    {
     "name": "stdout",
     "output_type": "stream",
     "text": [
      "Point(x=855, y=522)\n"
     ]
    },
    {
     "ename": "PyperclipException",
     "evalue": "only str, int, float, and bool values can be copied to the clipboard, not Point",
     "output_type": "error",
     "traceback": [
      "\u001b[1;31m---------------------------------------------------------------------------\u001b[0m",
      "\u001b[1;31mPyperclipException\u001b[0m                        Traceback (most recent call last)",
      "Cell \u001b[1;32mIn[5], line 7\u001b[0m\n\u001b[0;32m      5\u001b[0m \u001b[38;5;66;03m# Obter as coordenadas do mouse\u001b[39;00m\n\u001b[0;32m      6\u001b[0m \u001b[38;5;28mprint\u001b[39m(cordenada)\n\u001b[1;32m----> 7\u001b[0m \u001b[43mpyperclip\u001b[49m\u001b[38;5;241;43m.\u001b[39;49m\u001b[43mcopy\u001b[49m\u001b[43m(\u001b[49m\u001b[43mcordenada\u001b[49m\u001b[43m)\u001b[49m\n",
      "File \u001b[1;32mc:\\Users\\Acer\\AppData\\Local\\Programs\\Python\\Python312\\Lib\\site-packages\\pyperclip\\__init__.py:463\u001b[0m, in \u001b[0;36minit_windows_clipboard.<locals>.copy_windows\u001b[1;34m(text)\u001b[0m\n\u001b[0;32m    459\u001b[0m \u001b[38;5;28;01mdef\u001b[39;00m \u001b[38;5;21mcopy_windows\u001b[39m(text):\n\u001b[0;32m    460\u001b[0m     \u001b[38;5;66;03m# This function is heavily based on\u001b[39;00m\n\u001b[0;32m    461\u001b[0m     \u001b[38;5;66;03m# http://msdn.com/ms649016#_win32_Copying_Information_to_the_Clipboard\u001b[39;00m\n\u001b[1;32m--> 463\u001b[0m     text \u001b[38;5;241m=\u001b[39m \u001b[43m_stringifyText\u001b[49m\u001b[43m(\u001b[49m\u001b[43mtext\u001b[49m\u001b[43m)\u001b[49m \u001b[38;5;66;03m# Converts non-str values to str.\u001b[39;00m\n\u001b[0;32m    465\u001b[0m     \u001b[38;5;28;01mwith\u001b[39;00m window() \u001b[38;5;28;01mas\u001b[39;00m hwnd:\n\u001b[0;32m    466\u001b[0m         \u001b[38;5;66;03m# http://msdn.com/ms649048\u001b[39;00m\n\u001b[0;32m    467\u001b[0m         \u001b[38;5;66;03m# If an application calls OpenClipboard with hwnd set to NULL,\u001b[39;00m\n\u001b[0;32m    468\u001b[0m         \u001b[38;5;66;03m# EmptyClipboard sets the clipboard owner to NULL;\u001b[39;00m\n\u001b[0;32m    469\u001b[0m         \u001b[38;5;66;03m# this causes SetClipboardData to fail.\u001b[39;00m\n\u001b[0;32m    470\u001b[0m         \u001b[38;5;66;03m# => We need a valid hwnd to copy something.\u001b[39;00m\n\u001b[0;32m    471\u001b[0m         \u001b[38;5;28;01mwith\u001b[39;00m clipboard(hwnd):\n",
      "File \u001b[1;32mc:\\Users\\Acer\\AppData\\Local\\Programs\\Python\\Python312\\Lib\\site-packages\\pyperclip\\__init__.py:111\u001b[0m, in \u001b[0;36m_stringifyText\u001b[1;34m(text)\u001b[0m\n\u001b[0;32m    109\u001b[0m     acceptedTypes \u001b[38;5;241m=\u001b[39m (\u001b[38;5;28mstr\u001b[39m, \u001b[38;5;28mint\u001b[39m, \u001b[38;5;28mfloat\u001b[39m, \u001b[38;5;28mbool\u001b[39m)\n\u001b[0;32m    110\u001b[0m \u001b[38;5;28;01mif\u001b[39;00m \u001b[38;5;129;01mnot\u001b[39;00m \u001b[38;5;28misinstance\u001b[39m(text, acceptedTypes):\n\u001b[1;32m--> 111\u001b[0m     \u001b[38;5;28;01mraise\u001b[39;00m PyperclipException(\u001b[38;5;124m'\u001b[39m\u001b[38;5;124monly str, int, float, and bool values can be copied to the clipboard, not \u001b[39m\u001b[38;5;132;01m%s\u001b[39;00m\u001b[38;5;124m'\u001b[39m \u001b[38;5;241m%\u001b[39m (text\u001b[38;5;241m.\u001b[39m\u001b[38;5;18m__class__\u001b[39m\u001b[38;5;241m.\u001b[39m\u001b[38;5;18m__name__\u001b[39m))\n\u001b[0;32m    112\u001b[0m \u001b[38;5;28;01mreturn\u001b[39;00m STR_OR_UNICODE(text)\n",
      "\u001b[1;31mPyperclipException\u001b[0m: only str, int, float, and bool values can be copied to the clipboard, not Point"
     ]
    }
   ],
   "source": [
    "import pyautogui\n",
    "import pyperclip\n",
    "\n",
    "cordenada = pyautogui.position()\n",
    "# Obter as coordenadas do mouse\n",
    "print(cordenada)\n",
    "pyperclip.copy(cordenada)"
   ]
  }
 ],
 "metadata": {
  "kernelspec": {
   "display_name": "Python 3",
   "language": "python",
   "name": "python3"
  },
  "language_info": {
   "codemirror_mode": {
    "name": "ipython",
    "version": 3
   },
   "file_extension": ".py",
   "mimetype": "text/x-python",
   "name": "python",
   "nbconvert_exporter": "python",
   "pygments_lexer": "ipython3",
   "version": "3.12.2"
  }
 },
 "nbformat": 4,
 "nbformat_minor": 2
}
